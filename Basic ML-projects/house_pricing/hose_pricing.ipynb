{
 "cells": [
  {
   "cell_type": "code",
   "execution_count": 3,
   "metadata": {},
   "outputs": [],
   "source": [
    "import numpy as np\n",
    "import pandas as pd\n",
    "pd.set_option('display.max_columns', 200)\n",
    "\n",
    "from sklearn.model_selection import cross_val_score\n",
    "from sklearn import tree\n",
    "from sklearn.model_selection import train_test_split, GridSearchCV\n",
    "from sklearn.metrics import mean_squared_log_error, r2_score\n",
    "from sklearn.ensemble import RandomForestClassifier\n",
    "from xgboost import XGBRegressor\n",
    "from sklearn.impute import SimpleImputer\n",
    "from sklearn.preprocessing import RobustScaler"
   ]
  },
  {
   "cell_type": "code",
   "execution_count": 2,
   "metadata": {},
   "outputs": [],
   "source": [
    "hp_train = pd.read_csv('train.csv', index_col='Id')\n",
    "hp_test = pd.read_csv('test.csv', index_col='Id')"
   ]
  },
  {
   "cell_type": "code",
   "execution_count": 3,
   "metadata": {},
   "outputs": [],
   "source": [
    "X = hp_train.drop('SalePrice', axis=1)\n",
    "y = hp_train['SalePrice']"
   ]
  },
  {
   "cell_type": "code",
   "execution_count": 4,
   "metadata": {},
   "outputs": [],
   "source": [
    "# Separete numeric and categorical columns\n",
    "num_col = X.dtypes[X.dtypes != 'object'].index.to_list()\n",
    "cat_col = X.dtypes[X.dtypes == 'object'].index.to_list()"
   ]
  },
  {
   "cell_type": "code",
   "execution_count": 5,
   "metadata": {},
   "outputs": [],
   "source": [
    "# Get all columns with missing values\n",
    "num_col_mis_val = X[num_col].dtypes[X[num_col].isna().sum()>0].index.to_list()\n",
    "cat_col_mis_val = X[cat_col].dtypes[X[cat_col].isna().sum()>0].index.to_list()"
   ]
  },
  {
   "cell_type": "code",
   "execution_count": 6,
   "metadata": {},
   "outputs": [],
   "source": [
    "X[num_col_mis_val] = SimpleImputer(strategy='mean').fit_transform(X[num_col_mis_val])\n",
    "X[cat_col_mis_val] = X[cat_col_mis_val].fillna('Missing')"
   ]
  },
  {
   "cell_type": "code",
   "execution_count": 8,
   "metadata": {},
   "outputs": [],
   "source": [
    "X[num_col] = RobustScaler().fit_transform(X[num_col])\n",
    "X[cat_col] = X[cat_col].apply(lambda x: pd.factorize(x)[0])\n",
    "y = np.log1p(y)"
   ]
  },
  {
   "cell_type": "code",
   "execution_count": 9,
   "metadata": {},
   "outputs": [],
   "source": [
    "X_train, X_test, y_train, y_test = train_test_split(X, y, test_size=0.25, random_state=0)"
   ]
  },
  {
   "cell_type": "code",
   "execution_count": 43,
   "metadata": {},
   "outputs": [
    {
     "name": "stdout",
     "output_type": "stream",
     "text": [
      "{'learning_rate': 0.01, 'max_depth': 6, 'n_estimators': 2000, 'subsample': 0.7}\n"
     ]
    }
   ],
   "source": [
    "'''parameters = {\n",
    "    \"n_estimators\": [500, 750, 1000, 1500, 2000], \n",
    "    \"learning_rate\": [0.01, 0.02, 0.05], \n",
    "    \"max_depth\": [6, 8], \n",
    "    \"subsample\": [0.3, 0.5, 0.7]\n",
    "}\n",
    "\n",
    "grid = GridSearchCV(XGBRegressor(objective='reg:squarederror'), parameters)\n",
    "grid.fit(X_train, y_train)\n",
    "\n",
    "print(grid.best_params_)'''"
   ]
  },
  {
   "cell_type": "code",
   "execution_count": 38,
   "metadata": {},
   "outputs": [],
   "source": [
    "xgb_model = XGBRegressor(objective='reg:squarederror', n_jobs=8, learning_rate=0.01, max_depth=6, n_estimators=1500,\n",
    "subsample=0.7, early_stopping_rounds=10).fit(X_train, y_train, eval_set=[(X_test, y_test)], verbose=False)"
   ]
  },
  {
   "cell_type": "code",
   "execution_count": 39,
   "metadata": {},
   "outputs": [
    {
     "name": "stdout",
     "output_type": "stream",
     "text": [
      "-----\n",
      "* Training set\n",
      "R2: 99.02%\n",
      "RMSE: 0.00308\n",
      "-----\n",
      "* Validation set\n",
      "R2: 89.42%\n",
      "RMSE: 0.00959\n"
     ]
    }
   ],
   "source": [
    "print(\"-----\")\n",
    "print(\"* Training set\")\n",
    "y_pred = xgb_model.predict(X_train)\n",
    "print(f\"R2: {r2_score(y_train, y_pred):.2%}\")\n",
    "print(f\"RMSE: {mean_squared_log_error(y_train, y_pred, squared=False):.5f}\")\n",
    "\n",
    "print(\"-----\")\n",
    "print(\"* Validation set\")\n",
    "y_pred = xgb_model.predict(X_test)\n",
    "print(f\"R2: {r2_score(y_test, y_pred):.2%}\")\n",
    "print(f\"RMSE: {mean_squared_log_error(y_test, y_pred, squared=False):.5f}\")"
   ]
  },
  {
   "cell_type": "code",
   "execution_count": null,
   "metadata": {},
   "outputs": [],
   "source": []
  }
 ],
 "metadata": {
  "kernelspec": {
   "display_name": "Python 3.10.2 ('venv': venv)",
   "language": "python",
   "name": "python3"
  },
  "language_info": {
   "codemirror_mode": {
    "name": "ipython",
    "version": 3
   },
   "file_extension": ".py",
   "mimetype": "text/x-python",
   "name": "python",
   "nbconvert_exporter": "python",
   "pygments_lexer": "ipython3",
   "version": "3.10.2"
  },
  "orig_nbformat": 4,
  "vscode": {
   "interpreter": {
    "hash": "b0189e139adb8fe9a1b0addd3ecae1eeec637ab14a24a849a747c9f35583bd08"
   }
  }
 },
 "nbformat": 4,
 "nbformat_minor": 2
}
