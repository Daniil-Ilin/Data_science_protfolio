{
 "cells": [
  {
   "cell_type": "code",
   "execution_count": 1,
   "metadata": {},
   "outputs": [],
   "source": [
    "# Load all necessary libraries\n",
    "import numpy as np\n",
    "import pandas as pd\n",
    "pd.set_option('display.max_columns', 200)\n",
    "\n",
    "from sklearn.model_selection import cross_val_score\n",
    "from sklearn import tree\n",
    "from sklearn.model_selection import train_test_split, GridSearchCV\n",
    "from sklearn.metrics import mean_squared_log_error, r2_score\n",
    "from sklearn.ensemble import RandomForestClassifier\n",
    "from xgboost import XGBRegressor\n",
    "from sklearn.impute import SimpleImputer\n",
    "from sklearn.preprocessing import RobustScaler"
   ]
  },
  {
   "cell_type": "code",
   "execution_count": 12,
   "metadata": {},
   "outputs": [],
   "source": [
    "# Read train and test data\n",
    "hp_train = pd.read_csv('train.csv', index_col='Id')\n",
    "hp_test = pd.read_csv('test.csv', index_col='Id')"
   ]
  },
  {
   "cell_type": "code",
   "execution_count": 3,
   "metadata": {},
   "outputs": [],
   "source": [
    "# Get x and y from train data\n",
    "X = hp_train.drop('SalePrice', axis=1)\n",
    "y = hp_train['SalePrice']"
   ]
  },
  {
   "cell_type": "code",
   "execution_count": 5,
   "metadata": {},
   "outputs": [],
   "source": [
    "# Initialize function for data preparetion\n",
    "def prep_data(data):\n",
    "    # Separete numeric and categorical columns\n",
    "    num_col = data.dtypes[data.dtypes != 'object'].index.to_list()\n",
    "    cat_col = data.dtypes[data.dtypes == 'object'].index.to_list()\n",
    "    # Get all columns with missing values\n",
    "    num_col_mis_val = data[num_col].dtypes[data[num_col].isna().sum()>0].index.to_list()\n",
    "    cat_col_mis_val = data[cat_col].dtypes[data[cat_col].isna().sum()>0].index.to_list()\n",
    "    # Fill all numerical values with mean\n",
    "    data[num_col_mis_val] = SimpleImputer(strategy='mean').fit_transform(data[num_col_mis_val])\n",
    "    # Fill all categorical values with \"Missing\"\n",
    "    data[cat_col_mis_val] = data[cat_col_mis_val].fillna('Missing')\n",
    "    # Scale all numerical columns\n",
    "    data[num_col] = RobustScaler().fit_transform(data[num_col])\n",
    "    # Encode all categorical columns\n",
    "    data[cat_col] = data[cat_col].apply(lambda x: pd.factorize(x)[0])\n",
    "    return data"
   ]
  },
  {
   "cell_type": "code",
   "execution_count": 6,
   "metadata": {},
   "outputs": [],
   "source": [
    "# Prepare train data\n",
    "X = prep_data(X)\n",
    "# Scale target values\n",
    "y = np.log1p(y)"
   ]
  },
  {
   "cell_type": "code",
   "execution_count": 7,
   "metadata": {},
   "outputs": [],
   "source": [
    "# Split x and y into train and test datasets\n",
    "X_train, X_test, y_train, y_test = train_test_split(X, y, test_size=0.25, random_state=0)"
   ]
  },
  {
   "cell_type": "code",
   "execution_count": 43,
   "metadata": {},
   "outputs": [
    {
     "name": "stdout",
     "output_type": "stream",
     "text": [
      "{'learning_rate': 0.01, 'max_depth': 6, 'n_estimators': 2000, 'subsample': 0.7}\n"
     ]
    }
   ],
   "source": [
    "'''parameters = {\n",
    "    \"n_estimators\": [500, 750, 1000, 1500, 2000], \n",
    "    \"learning_rate\": [0.01, 0.02, 0.05], \n",
    "    \"max_depth\": [6, 8], \n",
    "    \"subsample\": [0.3, 0.5, 0.7]\n",
    "}\n",
    "\n",
    "grid = GridSearchCV(XGBRegressor(objective='reg:squarederror'), parameters)\n",
    "grid.fit(X_train, y_train)\n",
    "\n",
    "print(grid.best_params_)'''"
   ]
  },
  {
   "cell_type": "code",
   "execution_count": 8,
   "metadata": {},
   "outputs": [],
   "source": [
    "# Define and fit the XGBoost model\n",
    "xgb_model = XGBRegressor(objective='reg:squarederror', n_jobs=8, learning_rate=0.01, max_depth=6, n_estimators=1500,\n",
    "subsample=0.7, early_stopping_rounds=10).fit(X_train, y_train, eval_set=[(X_test, y_test)], verbose=False)"
   ]
  },
  {
   "cell_type": "code",
   "execution_count": 9,
   "metadata": {},
   "outputs": [
    {
     "name": "stdout",
     "output_type": "stream",
     "text": [
      "-----\n",
      "* Training set\n",
      "R2: 99.02%\n",
      "RMSE: 0.00308\n",
      "-----\n",
      "* Validation set\n",
      "R2: 89.42%\n",
      "RMSE: 0.00959\n"
     ]
    }
   ],
   "source": [
    "# Print the results of traning\n",
    "print(\"-----\")\n",
    "print(\"* Training set\")\n",
    "y_pred = xgb_model.predict(X_train)\n",
    "print(f\"R2: {r2_score(y_train, y_pred):.2%}\")\n",
    "print(f\"RMSE: {mean_squared_log_error(y_train, y_pred, squared=False):.5f}\")\n",
    "\n",
    "print(\"-----\")\n",
    "print(\"* Validation set\")\n",
    "y_pred = xgb_model.predict(X_test)\n",
    "print(f\"R2: {r2_score(y_test, y_pred):.2%}\")\n",
    "print(f\"RMSE: {mean_squared_log_error(y_test, y_pred, squared=False):.5f}\")"
   ]
  },
  {
   "cell_type": "code",
   "execution_count": 13,
   "metadata": {},
   "outputs": [],
   "source": [
    "# Prepare test data\n",
    "X_val = prep_data(hp_test)"
   ]
  },
  {
   "cell_type": "code",
   "execution_count": 16,
   "metadata": {},
   "outputs": [],
   "source": [
    "# Make predictions\n",
    "predictions = xgb_model.predict(X_val)"
   ]
  },
  {
   "cell_type": "code",
   "execution_count": 17,
   "metadata": {},
   "outputs": [
    {
     "data": {
      "text/plain": [
       "array([11.792274, 12.010835, 12.121516, ..., 12.082198, 11.654733,\n",
       "       12.340455], dtype=float32)"
      ]
     },
     "execution_count": 17,
     "metadata": {},
     "output_type": "execute_result"
    }
   ],
   "source": [
    "predictions"
   ]
  },
  {
   "cell_type": "code",
   "execution_count": 18,
   "metadata": {},
   "outputs": [],
   "source": [
    "# Inverse predictions\n",
    "predictions = np.expm1(predictions)"
   ]
  },
  {
   "cell_type": "code",
   "execution_count": 19,
   "metadata": {},
   "outputs": [
    {
     "data": {
      "text/plain": [
       "array([132225.88, 164526.78, 183782.97, ..., 176697.14, 115234.45,\n",
       "       228765.03], dtype=float32)"
      ]
     },
     "execution_count": 19,
     "metadata": {},
     "output_type": "execute_result"
    }
   ],
   "source": [
    "predictions"
   ]
  },
  {
   "cell_type": "code",
   "execution_count": 20,
   "metadata": {},
   "outputs": [],
   "source": [
    "# Read sample_submission.csv\n",
    "submission = pd.read_csv('sample_submission.csv')"
   ]
  },
  {
   "cell_type": "code",
   "execution_count": 22,
   "metadata": {},
   "outputs": [],
   "source": [
    "# Set sale price to predicted values\n",
    "submission.SalePrice = predictions"
   ]
  },
  {
   "cell_type": "code",
   "execution_count": 25,
   "metadata": {},
   "outputs": [],
   "source": [
    "# Save submission into a .csv file\n",
    "submission.to_csv('submission.csv', header=True, index=False)"
   ]
  },
  {
   "cell_type": "code",
   "execution_count": null,
   "metadata": {},
   "outputs": [],
   "source": []
  }
 ],
 "metadata": {
  "kernelspec": {
   "display_name": "Python 3.10.2 ('venv': venv)",
   "language": "python",
   "name": "python3"
  },
  "language_info": {
   "codemirror_mode": {
    "name": "ipython",
    "version": 3
   },
   "file_extension": ".py",
   "mimetype": "text/x-python",
   "name": "python",
   "nbconvert_exporter": "python",
   "pygments_lexer": "ipython3",
   "version": "3.10.2"
  },
  "orig_nbformat": 4,
  "vscode": {
   "interpreter": {
    "hash": "b0189e139adb8fe9a1b0addd3ecae1eeec637ab14a24a849a747c9f35583bd08"
   }
  }
 },
 "nbformat": 4,
 "nbformat_minor": 2
}
