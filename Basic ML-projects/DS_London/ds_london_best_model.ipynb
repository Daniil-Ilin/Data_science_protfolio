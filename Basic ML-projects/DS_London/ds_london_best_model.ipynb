{
 "cells": [
  {
   "cell_type": "code",
   "execution_count": 1,
   "metadata": {},
   "outputs": [],
   "source": [
    "import numpy as np\n",
    "import pandas as pd\n",
    "pd.set_option('display.max_columns', 200) #to see all columns in dataframe\n",
    "\n",
    "\n",
    "from sklearn.neighbors import KNeighborsClassifier\n",
    "from sklearn.ensemble import RandomForestClassifier\n",
    "from xgboost import XGBClassifier\n",
    "from sklearn.mixture import GaussianMixture\n",
    "from sklearn.model_selection import GridSearchCV\n",
    "from sklearn.model_selection import cross_val_score"
   ]
  },
  {
   "cell_type": "code",
   "execution_count": 2,
   "metadata": {},
   "outputs": [
    {
     "name": "stdout",
     "output_type": "stream",
     "text": [
      "training_x Shape: (1000, 40) ,training_y Shape: (1000,) ,testing_x Shape: (9000, 40)\n"
     ]
    }
   ],
   "source": [
    "x_train = pd.read_csv('train.csv', header=None)\n",
    "y_train = pd.read_csv('trainLabels.csv', header=None)\n",
    "x_test = pd.read_csv('test.csv', header=None)\n",
    "x_train = np.asarray(x_train)\n",
    "y_train = np.asarray(y_train)\n",
    "x_test = np.asarray(x_test)\n",
    "y_train = y_train.ravel()\n",
    "print('training_x Shape:',x_train.shape,',training_y Shape:',y_train.shape, ',testing_x Shape:',x_test.shape)"
   ]
  },
  {
   "cell_type": "code",
   "execution_count": 4,
   "metadata": {},
   "outputs": [
    {
     "name": "stdout",
     "output_type": "stream",
     "text": [
      "x_all shape : (10000, 40)\n"
     ]
    }
   ],
   "source": [
    "x_all = np.r_[x_train,x_test]\n",
    "print('x_all shape :',x_all.shape)"
   ]
  },
  {
   "cell_type": "code",
   "execution_count": 6,
   "metadata": {},
   "outputs": [],
   "source": [
    "lowest_bic = np.infty\n",
    "n_components_range = range(1, 7)\n",
    "cv_types = ['spherical', 'tied', 'diag', 'full']\n",
    "for cv_type in cv_types:\n",
    "\tfor n_components in n_components_range:\n",
    "        # Fit a mixture of Gaussians with EM\n",
    "\t\tgmm = GaussianMixture(n_components=n_components,covariance_type=cv_type)\n",
    "\t\tgmm.fit(x_all)\n",
    "\t\tif gmm.aic(x_all) < lowest_bic:\n",
    "\t\t\tlowest_bic = gmm.aic(x_all)\n",
    "\t\t\tbest_gmm = gmm"
   ]
  },
  {
   "cell_type": "code",
   "execution_count": 7,
   "metadata": {},
   "outputs": [],
   "source": [
    "best_gmm.fit(x_all)\n",
    "x_train = best_gmm.predict_proba(x_train)\n",
    "x_test = best_gmm.predict_proba(x_test)"
   ]
  },
  {
   "cell_type": "code",
   "execution_count": 10,
   "metadata": {},
   "outputs": [],
   "source": [
    "knn = KNeighborsClassifier()\n",
    "rf = RandomForestClassifier()\n",
    "xgb = XGBClassifier()"
   ]
  },
  {
   "cell_type": "code",
   "execution_count": 11,
   "metadata": {},
   "outputs": [
    {
     "name": "stdout",
     "output_type": "stream",
     "text": [
      "best estimator KNN: KNeighborsClassifier() Best Score 0.996\n",
      "Fitting 10 folds for each of 1 candidates, totalling 10 fits\n",
      "[CV 1/10] END .................................., score=1.000 total time=   0.0s\n",
      "[CV 2/10] END .................................., score=1.000 total time=   0.0s\n",
      "[CV 3/10] END .................................., score=1.000 total time=   0.0s\n",
      "[CV 4/10] END .................................., score=0.990 total time=   0.0s\n",
      "[CV 5/10] END .................................., score=1.000 total time=   0.0s\n",
      "[CV 6/10] END .................................., score=1.000 total time=   0.0s\n",
      "[CV 7/10] END .................................., score=0.990 total time=   0.0s\n",
      "[CV 8/10] END .................................., score=1.000 total time=   0.0s\n",
      "[CV 9/10] END .................................., score=0.980 total time=   0.0s\n",
      "[CV 10/10] END ................................., score=1.000 total time=   0.0s\n",
      "best estimator RandomForest: RandomForestClassifier() Best Score 0.998\n",
      "Fitting 10 folds for each of 1 candidates, totalling 10 fits\n",
      "[CV 1/10] END .................................., score=1.000 total time=   0.0s\n",
      "[CV 2/10] END .................................., score=1.000 total time=   0.0s\n",
      "[CV 3/10] END .................................., score=1.000 total time=   0.0s\n",
      "[CV 4/10] END .................................., score=0.990 total time=   0.0s\n",
      "[CV 5/10] END .................................., score=1.000 total time=   0.0s\n",
      "[CV 6/10] END .................................., score=1.000 total time=   0.0s\n",
      "[CV 7/10] END .................................., score=0.990 total time=   0.0s\n",
      "[CV 8/10] END .................................., score=1.000 total time=   0.0s\n",
      "[CV 9/10] END .................................., score=0.980 total time=   0.0s\n",
      "[CV 10/10] END ................................., score=1.000 total time=   0.0s\n",
      "best estimator XGBClassifier: XGBClassifier(base_score=0.5, booster='gbtree', callbacks=None,\n",
      "              colsample_bylevel=1, colsample_bynode=1, colsample_bytree=1,\n",
      "              early_stopping_rounds=None, enable_categorical=False,\n",
      "              eval_metric=None, gamma=0, gpu_id=-1, grow_policy='depthwise',\n",
      "              importance_type=None, interaction_constraints='',\n",
      "              learning_rate=0.300000012, max_bin=256, max_cat_to_onehot=4,\n",
      "              max_delta_step=0, max_depth=6, max_leaves=0, min_child_weight=1,\n",
      "              missing=nan, monotone_constraints='()', n_estimators=100,\n",
      "              n_jobs=0, num_parallel_tree=1, predictor='auto', random_state=0,\n",
      "              reg_alpha=0, reg_lambda=1, ...) Best Score 0.998\n"
     ]
    }
   ],
   "source": [
    "# GRID SEARCH for BEST TUNING PARAMETERS FOR KNN\n",
    "grid_search_knn = GridSearchCV(knn,param_grid=dict( ),cv=10,scoring='accuracy').fit(x_train,y_train)\n",
    "print('best estimator KNN:',grid_search_knn.best_estimator_,'Best Score', grid_search_knn.best_estimator_.score(x_train,y_train))\n",
    "knn_best = grid_search_knn.best_estimator_\n",
    "\n",
    "# GRID SEARCH for BEST TUNING PARAMETERS FOR RandomForest\n",
    "grid_search_rf = GridSearchCV(rf, param_grid=dict( ), verbose=3,scoring='accuracy',cv=10).fit(x_train,y_train)\n",
    "print('best estimator RandomForest:',grid_search_rf.best_estimator_,'Best Score', grid_search_rf.best_estimator_.score(x_train,y_train))\n",
    "rf_best = grid_search_rf.best_estimator_\n",
    "\n",
    "# GRID SEARCH for BEST TUNING PARAMETERS FOR XGBoost\n",
    "grid_search_xgb = GridSearchCV(xgb, param_grid=dict( ), verbose=3,scoring='accuracy',cv=10).fit(x_train,y_train)\n",
    "print('best estimator XGBClassifier:',grid_search_xgb.best_estimator_,'Best Score', grid_search_xgb.best_estimator_.score(x_train,y_train))\n",
    "xgb_best = grid_search_xgb.best_estimator_"
   ]
  },
  {
   "cell_type": "code",
   "execution_count": 12,
   "metadata": {},
   "outputs": [
    {
     "name": "stdout",
     "output_type": "stream",
     "text": [
      "[1 0 1 0 0 0 0 1 0 0]\n",
      "[1 0 1 0 0 0 0 1 0 0]\n",
      "[1 0 1 0 0 0 0 1 0 0]\n",
      "Score for KNN : 0.9960000000000001\n",
      "Score for Random Forest : 0.9960000000000001\n",
      "Score for XGBoost : 0.9960000000000001\n"
     ]
    }
   ],
   "source": [
    "knn_best.fit(x_train,y_train)\n",
    "print(knn_best.predict(x_test)[0:10])\n",
    "rf_best.fit(x_train,y_train)\n",
    "print(rf_best.predict(x_test)[0:10])\n",
    "xgb_best.fit(x_train,y_train)\n",
    "print(xgb_best.predict(x_test)[:10])\n",
    "\n",
    "# SCORING THE MODELS\n",
    "print('Score for KNN :',cross_val_score(knn_best,x_train,y_train,cv=10,scoring='accuracy').mean())\n",
    "print('Score for Random Forest :',cross_val_score(rf_best,x_train,y_train,cv=10,scoring='accuracy').mean())\n",
    "print('Score for XGBoost :',cross_val_score(xgb_best,x_train,y_train,cv=10,scoring='accuracy').mean())"
   ]
  },
  {
   "cell_type": "code",
   "execution_count": null,
   "metadata": {},
   "outputs": [],
   "source": []
  }
 ],
 "metadata": {
  "kernelspec": {
   "display_name": "Python 3.10.2 ('venv': venv)",
   "language": "python",
   "name": "python3"
  },
  "language_info": {
   "codemirror_mode": {
    "name": "ipython",
    "version": 3
   },
   "file_extension": ".py",
   "mimetype": "text/x-python",
   "name": "python",
   "nbconvert_exporter": "python",
   "pygments_lexer": "ipython3",
   "version": "3.10.2"
  },
  "orig_nbformat": 4,
  "vscode": {
   "interpreter": {
    "hash": "b0189e139adb8fe9a1b0addd3ecae1eeec637ab14a24a849a747c9f35583bd08"
   }
  }
 },
 "nbformat": 4,
 "nbformat_minor": 2
}
