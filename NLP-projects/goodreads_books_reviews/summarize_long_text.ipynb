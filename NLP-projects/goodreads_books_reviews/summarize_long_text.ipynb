{
 "cells": [
  {
   "cell_type": "code",
   "execution_count": null,
   "metadata": {},
   "outputs": [],
   "source": [
    "import torch\n",
    "from transformers import BartForConditionalGeneration\n",
    "from transformers import BartTokenizer"
   ]
  },
  {
   "cell_type": "code",
   "execution_count": null,
   "metadata": {},
   "outputs": [],
   "source": [
    "# Load pre-trained model for text summarization\n",
    "model = BartForConditionalGeneration.from_pretrained(\"facebook/bart-large-cnn\")\n",
    "bart_tok = BartTokenizer.from_pretrained(\"facebook/bart-large-cnn\")"
   ]
  },
  {
   "cell_type": "code",
   "execution_count": null,
   "metadata": {},
   "outputs": [],
   "source": [
    "sent = \"The Last of Us is one of the rare beloved games of the past decade that not only didn’t demand a sequel, but actively seemed to resist the idea of one. Its story is largely poignant because of how self-contained it is: not knowing what happened between Joel and Ellie after his fateful, final decision burned a mark into the brains of many who played it, and that open-ended question has lingered for years. But with The Last of Us Part 2, developer Naughty Dog rises to that challenge with not only a complex, profound story that gives it a reason to exist, but also deep and satisfying evolutions to the original’s third-person action/stealth gameplay. I can’t tell you much about some of Part 2’s best aspects, but not because I don’t want to – I’m bursting to talk with anyone about all the moving, uplifting, and heart-wrenching moments that have been replaying in my mind for days since I first beat this adventure. But doing so would strip away layers of the act of playing through Part 2 yourself, so I’ll speak about its story in largely general terms. One of Part 2’s biggest achievements is how it knowingly handles the weighted expectations that a sequel to one of the most heralded game stories of all time will inevitably carry with fans. It starts out seemingly simple, taking place about four years after the end of the original and setting an older, angrier, but still-immune Ellie on a quest for revenge that also hones in on the cycles of violence that can plague humanity as much as any infection. It knowingly leans into the tropes of the genre, such as guilt by association and the inevitable escalation of matching an eye for an eye and a tooth for a tooth. But those cliches are often subverted, playing into the expansive and not-so-straightforward path ahead. From there, Ellie’s journey grows into something much more ambitious. Part 2 deftly handles a war on the streets of post-zombie-apocalypse Seattle, an expansive new cast of characters, and some gut-punch payoffs to the lingering emotions The Last of Us’ powerful ending left me stirring over for the last seven years. The Last of Us Part 2’s story is handled as masterfully as it was in the original. One of the most impactful ways Part 2 hearkens back to The Last of Us is how it asks you to identify and empathize with its characters, even when you almost certainly won’t always agree with their actions. In a medium often defined by giving us the power to choose what happens, The Last of Us and Part 2 concern themselves more with fully realized characters, asking us to take them as they are. Naughty Dog’s characters are indelible, which makes for incredibly powerful and challenging moments when you’re put in Ellie's shoes and asked to act out her whims yourself. Part 2 is peppered with brutal, tragic, and poignant moments that hit harder because you take part in them, like it or not. Even if I disagreed with an action, I didn’t have a choice in the matter. I was asked to execute those actions or watch them happen without a chance to intercede, and to understand the reasoning behind them from their perspective. This dance between interactivity and an unalterable story made for a much more affecting experience than if I’d watched it all unfold in a movie. At the heart of it all is Ellie and her relationships. Ellie has had time to both find herself in the Jackson, Wyoming settlement she and her flawed father figure Joel call home and to reflect on the formative moments of her childhood. Uncovering what she knows and where she stands with Joel and his brother Tommy, is, at different times painful, amusing, and cathartic, but always in ways that are true to what I knew of these characters. Actors Troy Baker and Ashley Johnson once again bring so much heart and honesty in their performances as Joel and Ellie, respectively. Ellie is, without a doubt, the protagonist of Part 2, and Johnson brings nuance to every facet of Ellie’s character. Watching her grow up and wrestle with her past while still learning who she is as a 19-year-old (with all the usual desires and shortfalls 19-year-olds generally possess) is riveting at every step. She delivers some of the most human moments that Part 2 serves up. Baker is no less fantastic as Joel, even though Ellie is in the more prominent playable role. However you may feel about Joel’s decisions in the original, Baker sells the weariness of a man who has taken many lives to save his own and made questionable moral decisions out of love. Seeing him reckon with a surrogate daughter who both cares for him and yet keeps him at arm’s length is devastating to watch. Taking a cue from 2014’s prequel expansion, The Last of Us: Left Behind, Part 2 allowed me to live in moments between Joel and Ellie, which offered up a quiet reflection of why they view the world they do. Part 2 also introduces a great cast of supporting characters. Shannon Woodward is instantly charming as Dina, bringing a joy and kindness to a world where it’s otherwise so tough to find. Woodward shines in the smaller moments — a joking jab at Ellie here or an amusing aside about their Jackson homestead, there — offering so much dimension to the character. It’s also important to highlight, in spoiler-free terms, the incredible performance by Laura Bailey (known for her roles as Mary Jane from Marvel’s Spider-Man and Kait Diaz from Gears 5, among numerous others) as a new character. Like so many of The Last of Us’ characters, calling her good or evil would be reductive – we see her at her best and most relatable as well as her worst. It’s a testament to The Last of Us Part 2’s script by Neil Druckmann and Halley Gross and Bailey’s performance that even when she does horrible things, her motivations are just as legitimate and arguably noble as Joel’s or Ellie’s. It takes a deft hand to write characters like this; those I wanted the best for even if they were doing despicable things. Some of the choices the characters made in Part 2 delighted me, others frustrated me, but I always wanted them to be better, and stronger, and see the goodness in themselves. In this regard, they felt incredibly human. The way Naughty Dog uses the larger, community-based conflict between the warring groups in Seattle also helped avoid the fatigue that set in with the latter acts of Uncharted 4. Even though it took me about 25 hours to complete (10 hours longer than the original), Part 2 never dragged or felt padded out thanks to the large cast and Naughty Dog’s efforts to give each of them the screen time and story arc they deserve. Bringing so many perspectives to the forefront beautifully illustrates the larger ideas and conflicts in this world. Those conflicts play out with some very familiar stealth, action, and puzzle sequences. That said, one of the biggest critiques of the first game is that its combat and puzzle segments weren’t deep enough to avoid repetition over its 15 hours, and Part 2 has taken major steps to remedy that and add variety to gameplay – some of which seem obvious in hindsight. For example, it’s silly to think that adding a jump button in 2020 could feel so fresh, but it most definitely proves to be key to Part 2’s many enthralling combat encounters. Ellie is far more nimble than Joel, able to jump, swing, and climb over and under things to more carefully avoid or stalk enemies. That not only made my options feel exponentially more varied, but also allowed the level design around these encounters to be more open and diverse at every step. From underground caverns to dilapidated office and apartment buildings to the lush, overgrown streets of a Seattle being reclaimed by nature, Part 2’s stealth combat is easy to understand but consistently exciting to try and master with every new fight. Part of that comes from the scope of its battlefields: they take place in areas like multi-tiered shopping malls or fragmented skyscrapers that offer what feel like naturally complex puzzle boxes. There was always plenty of room, both literally and mechanically, to sneak around and pick off enemies one by one, go in guns blazing, or (as usually happened for me) plan to be stealthy but get caught and scramble to narrowly escape danger. Ellie’s ability to jump, go prone, dodge, and even run away from combat not only takes advantage of these large spaces, but also enables that improvisation within them, pushing you to adapt to any situation or meet a quick death. Enemies don’t just stick to set patterns; they’re reactive to the environment around them. While giving every human enemy a name and the ability to communicate with each other more effectively while searching for you seems somewhat superfluous at first, the practical application of it was always clear after I’d killed an enemy or two in any given fight. The Washington Liberation Front enemies, seeing a friend or loved one dead on the ground, would immediately switch up their search pattern, taking note of recently downed enemies and possible escape routes the killer could have taken from that spot. Simply hearing my enemies verbally work through their plans, rather than just going about their patrol routes, instilled so much more tension into every fight. Then there are the differences between the factions – learning the ins and outs of each added another interesting layer to combat. The Seraphites, battling with bows and arrows, use a whistling system to communicate, while the WLF members are more vocal and transparent, but carry a lot more firepower. And the Infected… well, they haven’t suddenly started talking, but their mob mentality is more threatening than ever. New enemies like the Shambler throw noxious spore bombs that cut off potential escape routes or obscure other enemies. The returning but more prevalent Stalkers are even scarier than before, pulling off a move Drax would be jealous of by making themselves invisible to Ellie’s returning radar-like Listen ability. They’ll use that silence to sneak up behind you, and when one attacks, it often means more are on the way. Fights with them, and a mixture of the many other Infected enemies with different abilities to take into account, led to several encounters that rivaled the best survival-horror experiences out there. This is all to say enemies feel vastly more intelligent and varied in this sequel, and the little details make all the difference in combat: when alerted, enemies will check every inch of a map, including under cars and around each bit of cover, and their increased responsiveness to changes in the environment meant I could rarely sit still or rely on just one weapon. I loved that incentive to not only shake up my strategy but also become more familiar with any given area as quickly as possible. The Last of Us Part 2 is a masterpiece worthy of its predecessor. Taking strides forward in nearly every way, Ellie steps into the spotlight and carries the sequel in a manner that feels like the culmination of everything that’s made Naughty Dog’s blockbuster storytelling so memorable since the original Uncharted on the PlayStation 3. It delivers a layered, emotionally shattering story on top of stealth and action gameplay that improves the first game’s mechanics while integrating a bit more of Uncharted’s greater mobility and action. But while Part 2 is a thrilling adventure, it still makes time for a stunning, nuanced exploration of the strength and fragility of the human spirit. The PlayStation 4 has one of its best exclusives in one of the generation’s best games.\""
   ]
  },
  {
   "cell_type": "code",
   "execution_count": null,
   "metadata": {},
   "outputs": [],
   "source": [
    "# Tokenize the text and add `[CLS]` and `[SEP]` tokens.\n",
    "input_ids = bart_tok.encode(sent, return_tensors=\"pt\").clone().detach().requires_grad_(False)"
   ]
  },
  {
   "cell_type": "code",
   "execution_count": null,
   "metadata": {},
   "outputs": [],
   "source": [
    "inps = input_ids[0][:1023].unsqueeze(-2)\n",
    "new_inps = torch.cat((inps, torch.tensor([2]).unsqueeze(-2)), dim=-1)\n",
    "len(input_ids[0])"
   ]
  },
  {
   "cell_type": "code",
   "execution_count": null,
   "metadata": {},
   "outputs": [],
   "source": [
    "def large_summarize(input_ids):\n",
    "    summ = torch.tensor([], dtype=torch.long)\n",
    "    while len(input_ids[0])>1024:\n",
    "        part = torch.cat((input_ids[0][:1023].unsqueeze(-2), torch.tensor([2]).unsqueeze(-2)), dim=-1)\n",
    "        sum_part = model.generate(part, max_length=510, num_beams=4, early_stopping=True)\n",
    "        summ = torch.cat((summ, sum_part), dim=-1)\n",
    "        input_ids = torch.cat((torch.tensor([0]).unsqueeze(-2), input_ids[0][1023:].unsqueeze(-2)), dim=-1)\n",
    "    sum_part = model.generate(input_ids, max_length=510, num_beams=4, early_stopping=True)\n",
    "    summ = torch.cat((summ, sum_part), dim=-1)\n",
    "    return summ"
   ]
  },
  {
   "cell_type": "code",
   "execution_count": null,
   "metadata": {},
   "outputs": [],
   "source": [
    "summary_text = bart_tok.decode(large_summarize(input_ids)[0], skip_special_tokens=True)"
   ]
  },
  {
   "cell_type": "code",
   "execution_count": null,
   "metadata": {},
   "outputs": [],
   "source": [
    "summary_text"
   ]
  }
 ],
 "metadata": {
  "kernelspec": {
   "display_name": "venv",
   "language": "python",
   "name": "python3"
  },
  "language_info": {
   "name": "python",
   "version": "3.10.2 (tags/v3.10.2:a58ebcc, Jan 17 2022, 14:12:15) [MSC v.1929 64 bit (AMD64)]"
  },
  "orig_nbformat": 4,
  "vscode": {
   "interpreter": {
    "hash": "b0189e139adb8fe9a1b0addd3ecae1eeec637ab14a24a849a747c9f35583bd08"
   }
  }
 },
 "nbformat": 4,
 "nbformat_minor": 2
}
