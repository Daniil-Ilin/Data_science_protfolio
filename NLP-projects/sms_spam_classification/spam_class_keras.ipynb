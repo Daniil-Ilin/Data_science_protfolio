{
 "cells": [
  {
   "cell_type": "code",
   "execution_count": 1,
   "metadata": {},
   "outputs": [],
   "source": [
    "import pandas as pd\n",
    "from tensorflow import keras\n",
    "import numpy as np\n",
    "import nltk\n",
    "# nltk.download('stopwords')\n",
    "from nltk.corpus import stopwords\n",
    "import re\n",
    "import string\n",
    "from keras import layers\n",
    "from sklearn.preprocessing import LabelEncoder\n",
    "from keras.preprocessing.text import Tokenizer\n",
    "from keras.models import Sequential\n",
    "from keras.preprocessing import sequence\n",
    "from tensorflow.keras.optimizers import RMSprop\n",
    "from collections import Counter"
   ]
  },
  {
   "cell_type": "code",
   "execution_count": 2,
   "metadata": {},
   "outputs": [],
   "source": [
    "train_file_path = \"train-data.tsv\"\n",
    "test_file_path = \"valid-data.tsv\""
   ]
  },
  {
   "cell_type": "code",
   "execution_count": 3,
   "metadata": {},
   "outputs": [],
   "source": [
    "train = pd.read_csv(train_file_path, sep='\\t', header=None)\n",
    "test = pd.read_csv(test_file_path, sep='\\t', header=None)"
   ]
  },
  {
   "cell_type": "code",
   "execution_count": 4,
   "metadata": {},
   "outputs": [],
   "source": [
    "# Preprocessing\n",
    "def remove_URL(text):\n",
    "    url = re.compile(r\"https?://\\S+|www\\.\\S+\")\n",
    "    return url.sub(r\"\", text)\n",
    "\n",
    "def remove_punct(text):\n",
    "    translator = str.maketrans(\"\", \"\", string.punctuation)\n",
    "    return text.translate(translator)"
   ]
  },
  {
   "cell_type": "code",
   "execution_count": 5,
   "metadata": {},
   "outputs": [],
   "source": [
    "# remove stopwords\n",
    "stop = set(stopwords.words(\"english\"))\n",
    "\n",
    "def remove_stopwords(text):\n",
    "    filtered_words = [word.lower() for word in text.split() if word.lower() not in stop]\n",
    "    return \" \".join(filtered_words)"
   ]
  },
  {
   "cell_type": "code",
   "execution_count": 6,
   "metadata": {},
   "outputs": [],
   "source": [
    "train[1] = train[1].map(remove_URL) # map(lambda x: remove_URL(x))\n",
    "train[1] = train[1].map(remove_punct)\n",
    "train[1] = train[1].map(remove_stopwords)"
   ]
  },
  {
   "cell_type": "code",
   "execution_count": 7,
   "metadata": {},
   "outputs": [],
   "source": [
    "test[1] = test[1].map(remove_URL) # map(lambda x: remove_URL(x))\n",
    "test[1] = test[1].map(remove_punct)\n",
    "test[1] = test[1].map(remove_stopwords)"
   ]
  },
  {
   "cell_type": "code",
   "execution_count": 8,
   "metadata": {},
   "outputs": [],
   "source": [
    "# Count unique words\n",
    "def counter_word(text_col):\n",
    "    count = Counter()\n",
    "    for text in text_col.values:\n",
    "        for word in text.split():\n",
    "            count[word] += 1\n",
    "    return count\n",
    "\n",
    "df = pd.concat([train, test], ignore_index=True)\n",
    "counter = counter_word(df[1])\n",
    "num_unique_words = len(counter)"
   ]
  },
  {
   "cell_type": "code",
   "execution_count": 9,
   "metadata": {},
   "outputs": [],
   "source": [
    "X_train = train[1].to_numpy()\n",
    "X_test = test[1].to_numpy()\n",
    "y_train = train[0]\n",
    "y_test = test[0]\n",
    "le = LabelEncoder()\n",
    "y_train = le.fit_transform(y_train)\n",
    "y_test = le.fit_transform(y_test)"
   ]
  },
  {
   "cell_type": "code",
   "execution_count": 10,
   "metadata": {},
   "outputs": [],
   "source": [
    "max_len = 20\n",
    "# create tokenizer\n",
    "token = Tokenizer(num_words = num_unique_words)\n",
    "token.fit_on_texts(X_train)\n",
    "# tokenize X_train and X_test\n",
    "X_train_seq = token.texts_to_sequences(X_train)\n",
    "X_test_seq = token.texts_to_sequences(X_test)\n",
    "# pad X_train and X_test\n",
    "X_train_pad = sequence.pad_sequences(X_train_seq , maxlen = max_len)\n",
    "X_test_pad = sequence.pad_sequences(X_test_seq , maxlen = max_len)"
   ]
  },
  {
   "cell_type": "code",
   "execution_count": 12,
   "metadata": {},
   "outputs": [],
   "source": [
    "model = Sequential([\n",
    "    layers.Embedding(num_unique_words , 32 , input_length = max_len),\n",
    "    layers.LSTM(64),\n",
    "    layers.Flatten(),\n",
    "    layers.Dense(250, activation='relu'),\n",
    "    layers.Dropout(0.4),\n",
    "    layers.Dense(120, activation='relu'),\n",
    "    layers.Dropout(0.4),\n",
    "    layers.Dense(1, activation='sigmoid')\n",
    "])"
   ]
  },
  {
   "cell_type": "code",
   "execution_count": 13,
   "metadata": {},
   "outputs": [
    {
     "name": "stdout",
     "output_type": "stream",
     "text": [
      "Model: \"sequential\"\n",
      "_________________________________________________________________\n",
      " Layer (type)                Output Shape              Param #   \n",
      "=================================================================\n",
      " embedding (Embedding)       (None, 20, 32)            302656    \n",
      "                                                                 \n",
      " lstm (LSTM)                 (None, 64)                24832     \n",
      "                                                                 \n",
      " flatten (Flatten)           (None, 64)                0         \n",
      "                                                                 \n",
      " dense (Dense)               (None, 250)               16250     \n",
      "                                                                 \n",
      " dropout (Dropout)           (None, 250)               0         \n",
      "                                                                 \n",
      " dense_1 (Dense)             (None, 120)               30120     \n",
      "                                                                 \n",
      " dropout_1 (Dropout)         (None, 120)               0         \n",
      "                                                                 \n",
      " dense_2 (Dense)             (None, 1)                 121       \n",
      "                                                                 \n",
      "=================================================================\n",
      "Total params: 373,979\n",
      "Trainable params: 373,979\n",
      "Non-trainable params: 0\n",
      "_________________________________________________________________\n"
     ]
    }
   ],
   "source": [
    "model.compile(loss = 'binary_crossentropy' , optimizer = 'RMSprop' , metrics = 'accuracy')\n",
    "model.summary()"
   ]
  },
  {
   "cell_type": "code",
   "execution_count": 88,
   "metadata": {},
   "outputs": [
    {
     "name": "stdout",
     "output_type": "stream",
     "text": [
      "Epoch 1/10\n",
      "33/33 [==============================] - 1s 19ms/step - loss: 3.8827e-06 - accuracy: 1.0000 - val_loss: 0.1415 - val_accuracy: 0.9820\n",
      "Epoch 2/10\n",
      "33/33 [==============================] - 1s 19ms/step - loss: 1.1216e-06 - accuracy: 1.0000 - val_loss: 0.1470 - val_accuracy: 0.9828\n",
      "Epoch 3/10\n",
      "33/33 [==============================] - 1s 19ms/step - loss: 2.4117e-06 - accuracy: 1.0000 - val_loss: 0.1544 - val_accuracy: 0.9828\n",
      "Epoch 4/10\n",
      "33/33 [==============================] - 1s 16ms/step - loss: 2.5700e-07 - accuracy: 1.0000 - val_loss: 0.1835 - val_accuracy: 0.9828\n",
      "Epoch 5/10\n",
      "33/33 [==============================] - 1s 16ms/step - loss: 1.3769e-07 - accuracy: 1.0000 - val_loss: 0.1769 - val_accuracy: 0.9820\n",
      "Epoch 6/10\n",
      "33/33 [==============================] - 1s 16ms/step - loss: 2.9687e-08 - accuracy: 1.0000 - val_loss: 0.2262 - val_accuracy: 0.9820\n",
      "Epoch 7/10\n",
      "33/33 [==============================] - 1s 16ms/step - loss: 2.3168e-08 - accuracy: 1.0000 - val_loss: 0.2217 - val_accuracy: 0.9820\n",
      "Epoch 8/10\n",
      "33/33 [==============================] - 1s 16ms/step - loss: 4.7043e-08 - accuracy: 1.0000 - val_loss: 0.2405 - val_accuracy: 0.9820\n",
      "Epoch 9/10\n",
      "33/33 [==============================] - 1s 16ms/step - loss: 2.4285e-09 - accuracy: 1.0000 - val_loss: 0.2384 - val_accuracy: 0.9820\n",
      "Epoch 10/10\n",
      "33/33 [==============================] - 1s 17ms/step - loss: 2.6501e-09 - accuracy: 1.0000 - val_loss: 0.2114 - val_accuracy: 0.9849\n"
     ]
    },
    {
     "data": {
      "text/plain": [
       "<keras.callbacks.History at 0x207c773e4a0>"
      ]
     },
     "execution_count": 88,
     "metadata": {},
     "output_type": "execute_result"
    }
   ],
   "source": [
    "model.fit(X_train_pad,y_train,batch_size=128,epochs=10,\n",
    "          validation_data=(X_test_pad, y_test))"
   ]
  },
  {
   "cell_type": "code",
   "execution_count": 106,
   "metadata": {},
   "outputs": [
    {
     "name": "stdout",
     "output_type": "stream",
     "text": [
      "[0.5930676460266113, 'spam']\n"
     ]
    }
   ],
   "source": [
    "# function to predict messages based on model\n",
    "# (should return list containing prediction and label, ex. [0.008318834938108921, 'ham'])\n",
    "def predict_message(pred_text):\n",
    "  # preprocessing\n",
    "  pred_text = remove_URL(pred_text)\n",
    "  pred_text = remove_punct(pred_text)\n",
    "  pred_text = remove_stopwords(pred_text)\n",
    "  pred_text = np.array([pred_text])\n",
    "  pred_text = token.texts_to_sequences(pred_text)\n",
    "  pred_text = sequence.pad_sequences(pred_text , maxlen = max_len)\n",
    "  # predicting on data\n",
    "  predict = model.predict(pred_text)\n",
    "  prediction = [predict.item(), 'ham' if predict.item() < 0.5 else 'spam']\n",
    "  return (prediction)\n",
    "\n",
    "pred_text = \"our new mobile video service is live. just install on your phone to start watching.\"\n",
    "\n",
    "prediction = predict_message(pred_text)\n",
    "print(prediction)"
   ]
  },
  {
   "cell_type": "code",
   "execution_count": 105,
   "metadata": {},
   "outputs": [
    {
     "name": "stdout",
     "output_type": "stream",
     "text": [
      "You passed the challenge. Great job!\n"
     ]
    }
   ],
   "source": [
    "# Run this cell to test your function and model. Do not modify contents.\n",
    "def test_predictions():\n",
    "  test_messages = [\"how are you doing today\",\n",
    "                   \"sale today! to stop texts call 98912460324\",\n",
    "                   \"i dont want to go. can we try it a different day? available sat\",\n",
    "                   \"our new mobile video service is live. just install on your phone to start watching.\",\n",
    "                   \"you have won £1000 cash! call to claim your prize.\",\n",
    "                   \"i'll bring it tomorrow. don't forget the milk.\",\n",
    "                   \"wow, is your arm alright. that happened to me one time too\"\n",
    "                  ]\n",
    "\n",
    "  test_answers = [\"ham\", \"spam\", \"ham\", \"spam\", \"spam\", \"ham\", \"ham\"]\n",
    "  passed = True\n",
    "\n",
    "  for msg, ans in zip(test_messages, test_answers):\n",
    "    prediction = predict_message(msg)\n",
    "    if prediction[1] != ans:\n",
    "      passed = False\n",
    "\n",
    "  if passed:\n",
    "    print(\"You passed the challenge. Great job!\")\n",
    "  else:\n",
    "    print(\"You haven't passed yet. Keep trying.\")\n",
    "\n",
    "test_predictions()"
   ]
  },
  {
   "cell_type": "code",
   "execution_count": 108,
   "metadata": {},
   "outputs": [],
   "source": [
    "model.save('spam_clas.h5')"
   ]
  },
  {
   "cell_type": "code",
   "execution_count": null,
   "metadata": {},
   "outputs": [],
   "source": []
  }
 ],
 "metadata": {
  "kernelspec": {
   "display_name": "Python 3.10.2 ('venv': venv)",
   "language": "python",
   "name": "python3"
  },
  "language_info": {
   "codemirror_mode": {
    "name": "ipython",
    "version": 3
   },
   "file_extension": ".py",
   "mimetype": "text/x-python",
   "name": "python",
   "nbconvert_exporter": "python",
   "pygments_lexer": "ipython3",
   "version": "3.10.2"
  },
  "orig_nbformat": 4,
  "vscode": {
   "interpreter": {
    "hash": "b0189e139adb8fe9a1b0addd3ecae1eeec637ab14a24a849a747c9f35583bd08"
   }
  }
 },
 "nbformat": 4,
 "nbformat_minor": 2
}
