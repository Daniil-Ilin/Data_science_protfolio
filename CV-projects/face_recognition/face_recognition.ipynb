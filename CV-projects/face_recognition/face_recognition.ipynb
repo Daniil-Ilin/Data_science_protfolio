{
 "cells": [
  {
   "cell_type": "code",
   "execution_count": 1,
   "metadata": {},
   "outputs": [],
   "source": [
    "# Import openCV library\n",
    "import cv2"
   ]
  },
  {
   "cell_type": "code",
   "execution_count": null,
   "metadata": {},
   "outputs": [],
   "source": [
    "# Initialize face recognition function\n",
    "def hilight_face(net, frame, conf_treshold=0.7):\n",
    "    # Make copy of current frame\n",
    "    frame_opencv_dnn = frame.copy()\n",
    "    # Get frames height\n",
    "    frame_height = frame_opencv_dnn.shape[0]\n",
    "    # Get frames width\n",
    "    frame_width = frame_opencv_dnn.shape[1]\n",
    "    # Convert frame into binary object\n",
    "    blob=cv2.dnn.blobFromImage(frame_opencv_dnn, 1.0, (300, 300), [104, 117, 123], True, False)\n",
    "    net.setInput(blob)\n",
    "    detections = net.forward()\n",
    "    face_boxes = []\n",
    "    for i in range(detections.shape[2]):\n",
    "        confidence = detections[0,0,i,2]\n",
    "        if confidence > conf_treshold:\n",
    "            x1 = int(detections[0,0,i,3]*frame_width)\n",
    "            y1 = int(detections[0,0,i,4]*frame_height)\n",
    "            x2 = int(detections[0,0,i,5]*frame_width)\n",
    "            y2 = int(detections[0,0,i,6]*frame_height)\n",
    "            face_boxes.append([x1,y1,x2,y2])\n",
    "            cv2.rectangle(frame_opencv_dnn, (x1,y1), (x2,y2), (0,255,0), int(round(frame_height/150)), 8)\n",
    "    return frame_opencv_dnn, face_boxes"
   ]
  },
  {
   "cell_type": "code",
   "execution_count": null,
   "metadata": {},
   "outputs": [],
   "source": [
    "face_proto = 'opencv_face_detector.pbtxt'\n",
    "face_model = 'opencv_face_detector_uint8.pb'\n",
    "face_net = cv2.dnn.readNet(face_model, face_proto)"
   ]
  },
  {
   "cell_type": "code",
   "execution_count": 3,
   "metadata": {},
   "outputs": [],
   "source": [
    "video = cv2.VideoCapture(0)\n",
    "while cv2.waitKey(1)<0:\n",
    "    has_frame, frame = video.read()\n",
    "    if not has_frame:\n",
    "        cv2.waitKey()\n",
    "        break\n",
    "    result_img, face_boxes = hilight_face(face_net, frame)\n",
    "    if not face_boxes:\n",
    "        print('No faces detected')\n",
    "    cv2.imshow('Face detection', frame)"
   ]
  },
  {
   "cell_type": "code",
   "execution_count": null,
   "metadata": {},
   "outputs": [],
   "source": []
  }
 ],
 "metadata": {
  "kernelspec": {
   "display_name": "venv",
   "language": "python",
   "name": "python3"
  },
  "language_info": {
   "codemirror_mode": {
    "name": "ipython",
    "version": 3
   },
   "file_extension": ".py",
   "mimetype": "text/x-python",
   "name": "python",
   "nbconvert_exporter": "python",
   "pygments_lexer": "ipython3",
   "version": "3.10.9"
  },
  "orig_nbformat": 4
 },
 "nbformat": 4,
 "nbformat_minor": 2
}
