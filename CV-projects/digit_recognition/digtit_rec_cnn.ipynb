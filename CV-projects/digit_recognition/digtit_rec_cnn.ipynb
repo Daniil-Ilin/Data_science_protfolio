{
 "cells": [
  {
   "cell_type": "code",
   "execution_count": 1,
   "metadata": {},
   "outputs": [],
   "source": [
    "# Import all necessary libraries\n",
    "import torch\n",
    "import random\n",
    "import numpy as np\n",
    "import torchvision.datasets\n",
    "import matplotlib.pyplot as plt\n",
    "\n",
    "random.seed(0)\n",
    "np.random.seed(0)\n",
    "torch.manual_seed(0)\n",
    "torch.cuda.manual_seed(0)\n",
    "torch.backends.cudnn.deterministic = True"
   ]
  },
  {
   "cell_type": "code",
   "execution_count": 19,
   "metadata": {},
   "outputs": [],
   "source": [
    "# Load MNIST train dataset\n",
    "MNIST_train = torchvision.datasets.MNIST('./', download=False, train=True)\n",
    "# Load MNIST test dataset\n",
    "MNIST_test = torchvision.datasets.MNIST('./', download=False, train=False)"
   ]
  },
  {
   "cell_type": "code",
   "execution_count": 20,
   "metadata": {},
   "outputs": [],
   "source": [
    "# Get training data\n",
    "X_train = MNIST_train.data.float()\n",
    "# Get training targets\n",
    "y_train = MNIST_train.targets\n",
    "# Get test data\n",
    "X_test = MNIST_test.data.float()\n",
    "# Get test targets\n",
    "y_test = MNIST_test.targets"
   ]
  },
  {
   "cell_type": "code",
   "execution_count": 21,
   "metadata": {},
   "outputs": [
    {
     "data": {
      "text/plain": [
       "(tensor(0.), tensor(255.))"
      ]
     },
     "execution_count": 21,
     "metadata": {},
     "output_type": "execute_result"
    }
   ],
   "source": [
    "# Show minimum and maximum values in training data\n",
    "X_train.min(), X_train.max()"
   ]
  },
  {
   "cell_type": "code",
   "execution_count": 22,
   "metadata": {},
   "outputs": [],
   "source": [
    "X_train /= 255.\n",
    "X_test /= 255."
   ]
  },
  {
   "cell_type": "code",
   "execution_count": 6,
   "metadata": {},
   "outputs": [
    {
     "name": "stdout",
     "output_type": "stream",
     "text": [
      "tensor(5) tensor(0) tensor(4) tensor(1) tensor(9) tensor(2) tensor(1) tensor(3) tensor(1) tensor(4) "
     ]
    },
    {
     "data": {
      "image/png": "[encoded data removed]",
      "text/plain": [
       "<Figure size 1440x144 with 10 Axes>"
      ]
     },
     "metadata": {
      "needs_background": "light"
     },
     "output_type": "display_data"
    }
   ],
   "source": [
    "plt.figure(figsize=(20,2))\n",
    "for i in range(10):\n",
    "    plt.subplot(1, 10, i+1)\n",
    "    plt.imshow(X_train[i])\n",
    "    print(y_train[i], end=' ')"
   ]
  },
  {
   "cell_type": "code",
   "execution_count": 29,
   "metadata": {},
   "outputs": [
    {
     "data": {
      "text/plain": [
       "(torch.Size([60000, 1, 28, 28]), torch.Size([60000]))"
      ]
     },
     "execution_count": 29,
     "metadata": {},
     "output_type": "execute_result"
    }
   ],
   "source": [
    "X_train.shape, y_train.shape"
   ]
  },
  {
   "cell_type": "code",
   "execution_count": 40,
   "metadata": {},
   "outputs": [
    {
     "data": {
      "text/plain": [
       "(torch.Size([10000, 28, 28, 1]), torch.Size([10000]))"
      ]
     },
     "execution_count": 40,
     "metadata": {},
     "output_type": "execute_result"
    }
   ],
   "source": [
    "X_test.shape, y_test.shape"
   ]
  },
  {
   "cell_type": "code",
   "execution_count": 45,
   "metadata": {},
   "outputs": [],
   "source": [
    "X_train = X_train.reshape([-1, 1, 28, 28])\n",
    "X_test = X_test.reshape([-1, 1, 28, 28])"
   ]
  },
  {
   "cell_type": "code",
   "execution_count": 54,
   "metadata": {},
   "outputs": [],
   "source": [
    "class MNIST_clas(torch.nn.Module):\n",
    "    def __init__(self):\n",
    "        super(MNIST_clas, self).__init__()\n",
    "\n",
    "        self.conv1 = torch.nn.Conv2d(in_channels=1, out_channels=6, kernel_size=3, padding=1)\n",
    "        self.conv2 = torch.nn.Conv2d(in_channels=6, out_channels=6, kernel_size=3, padding=1)\n",
    "        self.batch1 = torch.nn.BatchNorm2d(6)\n",
    "        self.act1 = torch.nn.ReLU()\n",
    "        self.maxp1 = torch.nn.MaxPool2d(kernel_size=2, stride=2)\n",
    "\n",
    "        self.conv3 = torch.nn.Conv2d(in_channels=6, out_channels=16, kernel_size=3, padding=1)\n",
    "        self.conv4 = torch.nn.Conv2d(in_channels=16, out_channels=16, kernel_size=3, padding=1)\n",
    "        self.batch2 = torch.nn.BatchNorm2d(16)\n",
    "        self.act2 = torch.nn.ReLU()\n",
    "        self.maxp2 = torch.nn.MaxPool2d(kernel_size=2, stride=2)\n",
    "        \n",
    "        self.flat1 = torch.nn.Flatten()\n",
    "        self.lin1 = torch.nn.Linear(784, 120)\n",
    "        self.batch3 = torch.nn.BatchNorm1d(120)\n",
    "        self.act3 = torch.nn.ReLU()\n",
    "\n",
    "        self.lin2 = torch.nn.Linear(120, 84)\n",
    "        self.batch4 = torch.nn.BatchNorm1d(84)\n",
    "        self.act4 = torch.nn.ReLU()\n",
    "\n",
    "        self.lin3 = torch.nn.Linear(84, 10)\n",
    "        self.act5 = torch.nn.Softmax()\n",
    "    \n",
    "    def forward(self, out):\n",
    "        out = self.conv1(out)\n",
    "        out = self.conv2(out)\n",
    "        out = self.batch1(out)\n",
    "        out = self.act1(out)\n",
    "        out = self.maxp1(out)\n",
    "\n",
    "        out = self.conv3(out)\n",
    "        out = self.conv4(out)\n",
    "        out = self.batch2(out)\n",
    "        out = self.act2(out)\n",
    "        out = self.maxp2(out)\n",
    "\n",
    "        out = self.flat1(out)\n",
    "        out = self.lin1(out)\n",
    "        out = self.batch3(out)\n",
    "        out = self.act3(out)\n",
    "\n",
    "        out = self.lin2(out)\n",
    "        out = self.batch4(out)\n",
    "        out = self.act4(out)\n",
    "\n",
    "        out = self.lin3(out)\n",
    "        out = self.act5(out)\n",
    "        return out"
   ]
  },
  {
   "cell_type": "code",
   "execution_count": 55,
   "metadata": {},
   "outputs": [],
   "source": [
    "digit_rec = MNIST_clas()"
   ]
  },
  {
   "cell_type": "code",
   "execution_count": 56,
   "metadata": {},
   "outputs": [],
   "source": [
    "loss = torch.nn.CrossEntropyLoss()\n",
    "optimizer = torch.optim.Adam(digit_rec.parameters(), lr=0.0005)"
   ]
  },
  {
   "cell_type": "code",
   "execution_count": 57,
   "metadata": {},
   "outputs": [
    {
     "name": "stderr",
     "output_type": "stream",
     "text": [
      "C:\\Users\\danii\\AppData\\Local\\Temp\\ipykernel_16480\\2549431260.py:52: UserWarning: Implicit dimension choice for softmax has been deprecated. Change the call to include dim=X as an argument.\n",
      "  out = self.act5(out)\n"
     ]
    },
    {
     "name": "stdout",
     "output_type": "stream",
     "text": [
      "tensor(0.9541)\n",
      "tensor(0.9801)\n",
      "tensor(0.9866)\n",
      "tensor(0.9882)\n",
      "tensor(0.9903)\n",
      "tensor(0.9898)\n",
      "tensor(0.9919)\n",
      "tensor(0.9918)\n",
      "tensor(0.9918)\n",
      "tensor(0.9919)\n",
      "tensor(0.9923)\n",
      "tensor(0.9930)\n",
      "tensor(0.9934)\n",
      "tensor(0.9930)\n",
      "tensor(0.9923)\n",
      "tensor(0.9929)\n",
      "tensor(0.9930)\n",
      "tensor(0.9933)\n",
      "tensor(0.9922)\n",
      "tensor(0.9935)\n",
      "tensor(0.9927)\n",
      "tensor(0.9933)\n",
      "tensor(0.9929)\n",
      "tensor(0.9928)\n",
      "tensor(0.9925)\n",
      "tensor(0.9931)\n",
      "tensor(0.9925)\n",
      "tensor(0.9929)\n",
      "tensor(0.9925)\n",
      "tensor(0.9931)\n"
     ]
    }
   ],
   "source": [
    "batch_size = 1024\n",
    "\n",
    "test_accuracy_history = []\n",
    "test_loss_history = []\n",
    "\n",
    "for epoch in range(30):\n",
    "    order = np.random.permutation(len(X_train))\n",
    "    for start_index in range(0, len(X_train), batch_size):\n",
    "        optimizer.zero_grad()\n",
    "\n",
    "        batch_indexes = order[start_index:start_index+batch_size]\n",
    "\n",
    "        X_batch = X_train[batch_indexes]\n",
    "        y_batch = y_train[batch_indexes]\n",
    "\n",
    "        pred = digit_rec.forward(X_batch)\n",
    "\n",
    "        loss_val = loss(pred, y_batch)\n",
    "        loss_val.backward()\n",
    "\n",
    "        optimizer.step()\n",
    "    \n",
    "    test_pred = digit_rec.forward(X_test)\n",
    "    test_loss_history.append(loss(test_pred, y_test).data.cpu())\n",
    "\n",
    "    accuracy = (test_pred.argmax(dim=1) == y_test).float().mean().data.cpu()\n",
    "    test_accuracy_history.append(accuracy)\n",
    "    print(accuracy)"
   ]
  },
  {
   "cell_type": "code",
   "execution_count": 58,
   "metadata": {},
   "outputs": [
    {
     "name": "stderr",
     "output_type": "stream",
     "text": [
      "No artists with labels found to put in legend.  Note that artists whose label start with an underscore are ignored when legend() is called with no argument.\n"
     ]
    },
    {
     "data": {
      "image/png": "[encoded data removed]",
      "text/plain": [
       "<Figure size 432x288 with 1 Axes>"
      ]
     },
     "metadata": {
      "needs_background": "light"
     },
     "output_type": "display_data"
    }
   ],
   "source": [
    "plt.plot(test_loss_history)\n",
    "plt.legend()\n",
    "plt.title('Validation Loss');"
   ]
  },
  {
   "cell_type": "code",
   "execution_count": 59,
   "metadata": {},
   "outputs": [
    {
     "name": "stderr",
     "output_type": "stream",
     "text": [
      "No artists with labels found to put in legend.  Note that artists whose label start with an underscore are ignored when legend() is called with no argument.\n"
     ]
    },
    {
     "data": {
      "image/png": "[encoded data removed]",
      "text/plain": [
       "<Figure size 432x288 with 1 Axes>"
      ]
     },
     "metadata": {
      "needs_background": "light"
     },
     "output_type": "display_data"
    }
   ],
   "source": [
    "plt.plot(test_accuracy_history)\n",
    "plt.legend()\n",
    "plt.title('Validation Accuracy');"
   ]
  },
  {
   "cell_type": "code",
   "execution_count": 62,
   "metadata": {},
   "outputs": [],
   "source": [
    "torch.save(digit_rec.state_dict(), 'digit_rec_cnn.pt')"
   ]
  },
  {
   "cell_type": "code",
   "execution_count": null,
   "metadata": {},
   "outputs": [],
   "source": []
  }
 ],
 "metadata": {
  "kernelspec": {
   "display_name": "Python 3.10.2 ('venv': venv)",
   "language": "python",
   "name": "python3"
  },
  "language_info": {
   "codemirror_mode": {
    "name": "ipython",
    "version": 3
   },
   "file_extension": ".py",
   "mimetype": "text/x-python",
   "name": "python",
   "nbconvert_exporter": "python",
   "pygments_lexer": "ipython3",
   "version": "3.10.2"
  },
  "orig_nbformat": 4,
  "vscode": {
   "interpreter": {
    "hash": "b0189e139adb8fe9a1b0addd3ecae1eeec637ab14a24a849a747c9f35583bd08"
   }
  }
 },
 "nbformat": 4,
 "nbformat_minor": 2
}
